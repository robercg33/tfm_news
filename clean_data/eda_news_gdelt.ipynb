{
 "cells": [
  {
   "cell_type": "markdown",
   "id": "06582498-2adf-434a-8194-9f80bb8e60fa",
   "metadata": {},
   "source": [
    "# EDA of GDELT news collected"
   ]
  },
  {
   "cell_type": "markdown",
   "id": "b2db81d0-a5cf-4daf-a96a-b925908ff0c2",
   "metadata": {},
   "source": [
    "In this notebook I will perform a simple EDA on a (representative) subset of the news collected. The intention is to define a cleaning process for later creating a cleaner script that will be used to clean all the data collected.\n",
    "\n",
    "In that way, the cleaned data will be used as input for a text-summarization ML model.\n",
    "\n",
    "Firts imports and define necessary functions to load the content from S3 bucket"
   ]
  },
  {
   "cell_type": "code",
   "execution_count": 28,
   "id": "e8a7826c-526b-41b4-91f6-d9889e2037a8",
   "metadata": {
    "tags": []
   },
   "outputs": [],
   "source": [
    "import pandas as pd\n",
    "import boto3\n",
    "import random\n",
    "from io import StringIO\n",
    "\n",
    "#Initialize the S3 client\n",
    "s3_client = boto3.client('s3')\n",
    "\n",
    "def list_csv_files(bucket_name):\n",
    "    response = s3_client.list_objects_v2(Bucket=bucket_name)\n",
    "    csv_files = [obj['Key'] for obj in response.get('Contents', []) if obj['Key'].endswith('.csv')]\n",
    "    return csv_files\n",
    "\n",
    "def select_random_files(file_list, n):\n",
    "    return random.sample(file_list, n)\n",
    "\n",
    "def load_csv_from_s3(bucket_name, file_key):\n",
    "    response = s3_client.get_object(Bucket=bucket_name, Key=file_key)\n",
    "    csv_content = response['Body'].read().decode('utf-8')\n",
    "    return pd.read_csv(StringIO(csv_content))\n",
    "\n",
    "def load_random_csvs(bucket_name, file_list, n):\n",
    "    selected_files = select_random_files(file_list, n)\n",
    "    dataframes = [load_csv_from_s3(bucket_name, file) for file in selected_files]\n",
    "    combined_df = pd.concat(dataframes, ignore_index=True)\n",
    "    return combined_df"
   ]
  },
  {
   "cell_type": "code",
   "execution_count": 29,
   "id": "10c1280c-042a-4d69-8631-2c67e672643c",
   "metadata": {
    "tags": []
   },
   "outputs": [
    {
     "name": "stdout",
     "output_type": "stream",
     "text": [
      "Found 241 CSV files in the bucket.\n"
     ]
    }
   ],
   "source": [
    "#List the number of files in the bucket where the news were collected\n",
    "bucket_name = 'rcg-news-gdelt'\n",
    "csv_files = list_csv_files(bucket_name)\n",
    "print(f\"Found {len(csv_files)} CSV files in the bucket.\")"
   ]
  },
  {
   "cell_type": "code",
   "execution_count": 30,
   "id": "015c4551-fbec-4909-9c47-5422fe9fe0be",
   "metadata": {
    "tags": []
   },
   "outputs": [
    {
     "name": "stdout",
     "output_type": "stream",
     "text": [
      "Loaded 13671 rows from 100 CSV files.\n"
     ]
    }
   ],
   "source": [
    "#Get a random subset of those files\n",
    "n = 100\n",
    "combined_df = load_random_csvs(bucket_name, csv_files, n)\n",
    "combined_df = combined_df.dropna()\n",
    "combined_df = combined_df.drop_duplicates(subset=\"body\")\n",
    "print(f\"Loaded {len(combined_df)} rows from {n} CSV files.\")"
   ]
  },
  {
   "cell_type": "code",
   "execution_count": 31,
   "id": "e500896b-b52c-45a7-ab0f-cd937f20e940",
   "metadata": {
    "tags": []
   },
   "outputs": [
    {
     "data": {
      "text/plain": [
       "url      0\n",
       "title    0\n",
       "body     0\n",
       "dtype: int64"
      ]
     },
     "execution_count": 31,
     "metadata": {},
     "output_type": "execute_result"
    }
   ],
   "source": [
    "combined_df.isna().sum()"
   ]
  },
  {
   "cell_type": "code",
   "execution_count": 32,
   "id": "d1df99bb-accd-45aa-ac74-5f774fc1afcc",
   "metadata": {
    "tags": []
   },
   "outputs": [
    {
     "data": {
      "text/html": [
       "<div>\n",
       "<style scoped>\n",
       "    .dataframe tbody tr th:only-of-type {\n",
       "        vertical-align: middle;\n",
       "    }\n",
       "\n",
       "    .dataframe tbody tr th {\n",
       "        vertical-align: top;\n",
       "    }\n",
       "\n",
       "    .dataframe thead th {\n",
       "        text-align: right;\n",
       "    }\n",
       "</style>\n",
       "<table border=\"1\" class=\"dataframe\">\n",
       "  <thead>\n",
       "    <tr style=\"text-align: right;\">\n",
       "      <th></th>\n",
       "      <th>url</th>\n",
       "      <th>title</th>\n",
       "      <th>body</th>\n",
       "      <th>body_len</th>\n",
       "    </tr>\n",
       "  </thead>\n",
       "  <tbody>\n",
       "    <tr>\n",
       "      <th>1</th>\n",
       "      <td>https://www.rte.ie/news/ukraine/2024/0101/1424...</td>\n",
       "      <td>Russia suffering major losses in Ukraine - Zel...</td>\n",
       "      <td>Ukrainian President Volodymyr Zelensky has sai...</td>\n",
       "      <td>4387</td>\n",
       "    </tr>\n",
       "    <tr>\n",
       "      <th>2</th>\n",
       "      <td>https://www.lbc.co.uk/news/small-boat-crossing...</td>\n",
       "      <td>Small boat crossings fall by a third as govern...</td>\n",
       "      <td>LBC. Ali Miraj12pm - 3pm. News. Ali Miraj is L...</td>\n",
       "      <td>3368</td>\n",
       "    </tr>\n",
       "    <tr>\n",
       "      <th>3</th>\n",
       "      <td>https://www.themalaysianinsight.com/s/478666</td>\n",
       "      <td>Israel army warns Gaza war will continue throu...</td>\n",
       "      <td>Updated 6 months ago ·\\n            Published ...</td>\n",
       "      <td>6286</td>\n",
       "    </tr>\n",
       "    <tr>\n",
       "      <th>4</th>\n",
       "      <td>https://www.nydailynews.com/2024/01/01/n-y-law...</td>\n",
       "      <td>N.Y. lawmakers headed back to Albany for start...</td>\n",
       "      <td>Daily News e-Edition. Evening e-Edition. Sign ...</td>\n",
       "      <td>2023</td>\n",
       "    </tr>\n",
       "    <tr>\n",
       "      <th>5</th>\n",
       "      <td>https://www.bangkokpost.com/thailand/general/2...</td>\n",
       "      <td>Bangkok Post - Leaders offer New Year wishes,...</td>\n",
       "      <td>PUBLISHED : 2 Jan 2024 at 06:19. NEWSPAPER SEC...</td>\n",
       "      <td>2592</td>\n",
       "    </tr>\n",
       "    <tr>\n",
       "      <th>6</th>\n",
       "      <td>https://www.bostonherald.com/2024/01/01/migran...</td>\n",
       "      <td>Migrant buses bypass NYC for New Jersey</td>\n",
       "      <td>E-Edition. Sign up for email newsletters. . Si...</td>\n",
       "      <td>3970</td>\n",
       "    </tr>\n",
       "    <tr>\n",
       "      <th>7</th>\n",
       "      <td>https://nypost.com/2024/01/01/opinion/why-eric...</td>\n",
       "      <td>Why Eric Adams' 'tough' moves on migrants keep...</td>\n",
       "      <td>Thanks for contacting us. We've received your ...</td>\n",
       "      <td>2026</td>\n",
       "    </tr>\n",
       "    <tr>\n",
       "      <th>8</th>\n",
       "      <td>https://news.yahoo.com/virginia-man-hit-killed...</td>\n",
       "      <td>Virginia man hit, killed by car on I-270 in Mo...</td>\n",
       "      <td>MONTGOMERY COUNTY, Md. (DC News Now) — Marylan...</td>\n",
       "      <td>3019</td>\n",
       "    </tr>\n",
       "  </tbody>\n",
       "</table>\n",
       "</div>"
      ],
      "text/plain": [
       "                                                 url  \\\n",
       "1  https://www.rte.ie/news/ukraine/2024/0101/1424...   \n",
       "2  https://www.lbc.co.uk/news/small-boat-crossing...   \n",
       "3       https://www.themalaysianinsight.com/s/478666   \n",
       "4  https://www.nydailynews.com/2024/01/01/n-y-law...   \n",
       "5  https://www.bangkokpost.com/thailand/general/2...   \n",
       "6  https://www.bostonherald.com/2024/01/01/migran...   \n",
       "7  https://nypost.com/2024/01/01/opinion/why-eric...   \n",
       "8  https://news.yahoo.com/virginia-man-hit-killed...   \n",
       "\n",
       "                                               title  \\\n",
       "1  Russia suffering major losses in Ukraine - Zel...   \n",
       "2  Small boat crossings fall by a third as govern...   \n",
       "3  Israel army warns Gaza war will continue throu...   \n",
       "4  N.Y. lawmakers headed back to Albany for start...   \n",
       "5   Bangkok Post - Leaders offer New Year wishes,...   \n",
       "6            Migrant buses bypass NYC for New Jersey   \n",
       "7  Why Eric Adams' 'tough' moves on migrants keep...   \n",
       "8  Virginia man hit, killed by car on I-270 in Mo...   \n",
       "\n",
       "                                                body  body_len  \n",
       "1  Ukrainian President Volodymyr Zelensky has sai...      4387  \n",
       "2  LBC. Ali Miraj12pm - 3pm. News. Ali Miraj is L...      3368  \n",
       "3  Updated 6 months ago ·\\n            Published ...      6286  \n",
       "4  Daily News e-Edition. Evening e-Edition. Sign ...      2023  \n",
       "5  PUBLISHED : 2 Jan 2024 at 06:19. NEWSPAPER SEC...      2592  \n",
       "6  E-Edition. Sign up for email newsletters. . Si...      3970  \n",
       "7  Thanks for contacting us. We've received your ...      2026  \n",
       "8  MONTGOMERY COUNTY, Md. (DC News Now) — Marylan...      3019  "
      ]
     },
     "execution_count": 32,
     "metadata": {},
     "output_type": "execute_result"
    }
   ],
   "source": [
    "#Add a column containing the length of the bodies\n",
    "combined_df[\"body_len\"] = combined_df[\"body\"].apply(len)\n",
    "combined_df.head(8)"
   ]
  },
  {
   "cell_type": "markdown",
   "id": "28376daa-bfde-4023-b33b-6ad54507404c",
   "metadata": {},
   "source": [
    "The first thing to do is to see the distribution of the length of the body of the articles"
   ]
  },
  {
   "cell_type": "code",
   "execution_count": 33,
   "id": "1c482728-e9f2-4c1d-a572-69849fd01882",
   "metadata": {
    "tags": []
   },
   "outputs": [
    {
     "data": {
      "image/png": "[encoded data removed]",
      "text/plain": [
       "<Figure size 1000x600 with 1 Axes>"
      ]
     },
     "metadata": {},
     "output_type": "display_data"
    }
   ],
   "source": [
    "import matplotlib.pyplot as plt\n",
    "import seaborn as sns\n",
    "\n",
    "#Plot the distribution for\n",
    "def visualize_text_length_distribution(df, length_column):\n",
    "    plt.figure(figsize=(10, 6))\n",
    "    sns.histplot(df[length_column], bins=50, kde=True)\n",
    "    plt.title('Distribution of Text Lengths')\n",
    "    plt.xlabel('Text Length')\n",
    "    plt.ylabel('Frequency')\n",
    "    plt.show()\n",
    "    \n",
    "visualize_text_length_distribution(combined_df, \"body_len\")"
   ]
  },
  {
   "cell_type": "markdown",
   "id": "e08f51cd-3c21-4e3f-b654-eed011419792",
   "metadata": {},
   "source": [
    "The graph is telling us that probably there is a few text that are extremely large compare to the rest. Let's see the distribution. First get a few statistics of the lengths"
   ]
  },
  {
   "cell_type": "code",
   "execution_count": 34,
   "id": "e2a92596-712e-482a-91d9-a80e07c8cf35",
   "metadata": {
    "tags": []
   },
   "outputs": [
    {
     "data": {
      "text/html": [
       "<div>\n",
       "<style scoped>\n",
       "    .dataframe tbody tr th:only-of-type {\n",
       "        vertical-align: middle;\n",
       "    }\n",
       "\n",
       "    .dataframe tbody tr th {\n",
       "        vertical-align: top;\n",
       "    }\n",
       "\n",
       "    .dataframe thead th {\n",
       "        text-align: right;\n",
       "    }\n",
       "</style>\n",
       "<table border=\"1\" class=\"dataframe\">\n",
       "  <thead>\n",
       "    <tr style=\"text-align: right;\">\n",
       "      <th></th>\n",
       "      <th>count</th>\n",
       "      <th>mean</th>\n",
       "      <th>std</th>\n",
       "      <th>min</th>\n",
       "      <th>25%</th>\n",
       "      <th>50%</th>\n",
       "      <th>75%</th>\n",
       "      <th>max</th>\n",
       "    </tr>\n",
       "  </thead>\n",
       "  <tbody>\n",
       "    <tr>\n",
       "      <th>body_len</th>\n",
       "      <td>13671.0</td>\n",
       "      <td>5668.742082</td>\n",
       "      <td>47122.166154</td>\n",
       "      <td>5.0</td>\n",
       "      <td>2037.5</td>\n",
       "      <td>3303.0</td>\n",
       "      <td>5299.0</td>\n",
       "      <td>5056258.0</td>\n",
       "    </tr>\n",
       "  </tbody>\n",
       "</table>\n",
       "</div>"
      ],
      "text/plain": [
       "            count         mean           std  min     25%     50%     75%  \\\n",
       "body_len  13671.0  5668.742082  47122.166154  5.0  2037.5  3303.0  5299.0   \n",
       "\n",
       "                max  \n",
       "body_len  5056258.0  "
      ]
     },
     "execution_count": 34,
     "metadata": {},
     "output_type": "execute_result"
    }
   ],
   "source": [
    "combined_df[[\"body_len\"]].describe().T"
   ]
  },
  {
   "cell_type": "markdown",
   "id": "28e523a4-3228-4f3e-9bdf-28370474cd97",
   "metadata": {},
   "source": [
    "Clearly there are a few text which are very large, as the 75% of them are less than 5253 characters long, but there is a maximum of more that 500.000 words. Let's see the distributions"
   ]
  },
  {
   "cell_type": "code",
   "execution_count": 35,
   "id": "cf7ea95a-b396-4018-a07f-193114d3aad9",
   "metadata": {
    "tags": []
   },
   "outputs": [],
   "source": [
    "def calculate_length_ranges(df, length_column, bins):\n",
    "    \"\"\"\n",
    "    Calculate the percentage of texts that fall within different length ranges.\n",
    "    \n",
    "    Parameters:\n",
    "    df (pd.DataFrame): The input DataFrame.\n",
    "    length_column (str): The name of the column containing the text lengths.\n",
    "    bins (list): The list of bin edges for calculating the length ranges.\n",
    "    \n",
    "    Returns:\n",
    "    pd.Series: The percentages of texts in each length range.\n",
    "    \"\"\"\n",
    "    length_ranges = pd.cut(df[length_column], bins=bins)\n",
    "    length_range_counts = length_ranges.value_counts(normalize=True) * 100\n",
    "    return length_range_counts\n",
    "\n",
    "bins = [0, 100, 500, 1000, 5000, 10000, 15000, float('inf')]\n",
    "\n",
    "length_range_percentages = calculate_length_ranges(combined_df, \"body_len\", bins)"
   ]
  },
  {
   "cell_type": "code",
   "execution_count": 36,
   "id": "a6a19bca-05b7-420c-be56-94f82340cf69",
   "metadata": {
    "tags": []
   },
   "outputs": [
    {
     "data": {
      "text/plain": [
       "body_len\n",
       "(1000.0, 5000.0]      64.640480\n",
       "(5000.0, 10000.0]     20.539829\n",
       "(500.0, 1000.0]        5.105698\n",
       "(10000.0, 15000.0]     3.920708\n",
       "(15000.0, inf]         3.116085\n",
       "(100.0, 500.0]         2.289518\n",
       "(0.0, 100.0]           0.387682\n",
       "Name: proportion, dtype: float64"
      ]
     },
     "execution_count": 36,
     "metadata": {},
     "output_type": "execute_result"
    }
   ],
   "source": [
    "length_range_percentages"
   ]
  },
  {
   "cell_type": "markdown",
   "id": "efaead72-25ed-4320-9863-c52f739fda07",
   "metadata": {},
   "source": [
    "As the majority of them (around 90%) fall into the 500 to 10000 range, we will set those as the boundaries, and filter the rest by eliminating them"
   ]
  },
  {
   "cell_type": "code",
   "execution_count": 37,
   "id": "c6e0f93f-6e1a-4e12-8c9d-26f61e404f55",
   "metadata": {
    "tags": []
   },
   "outputs": [
    {
     "data": {
      "text/plain": [
       "(12344, 4)"
      ]
     },
     "execution_count": 37,
     "metadata": {},
     "output_type": "execute_result"
    }
   ],
   "source": [
    "def filter_texts_by_length(df, length_column, min_length, max_length):\n",
    "    filtered_df = df[(df[length_column] >= min_length) & (df[length_column] <= max_length)]\n",
    "    return filtered_df\n",
    "\n",
    "filtered_df = filter_texts_by_length(combined_df, \"body_len\", 500, 10000)\n",
    "filtered_df.shape"
   ]
  },
  {
   "cell_type": "markdown",
   "id": "fb9d4841-23b3-4a91-92c3-655078e199d1",
   "metadata": {
    "tags": []
   },
   "source": [
    "Now, let's see the length distribution of this new filtered DF"
   ]
  },
  {
   "cell_type": "code",
   "execution_count": 38,
   "id": "0922fbeb-7389-42d7-a9e1-52c055df68e6",
   "metadata": {
    "tags": []
   },
   "outputs": [
    {
     "data": {
      "image/png": "[encoded data removed]",
      "text/plain": [
       "<Figure size 1000x600 with 1 Axes>"
      ]
     },
     "metadata": {},
     "output_type": "display_data"
    }
   ],
   "source": [
    "visualize_text_length_distribution(filtered_df, \"body_len\")"
   ]
  },
  {
   "cell_type": "markdown",
   "id": "c71cdab0-1574-4112-9aed-b36ebdb51df4",
   "metadata": {},
   "source": [
    "This is a much more clear diagram of the distribution. We can see that the distribution is skewed to the left, meaning that is much more common to find news shorter than longer. That should be taken into account for selecting the text-summarization model for tagging the data.\n",
    "\n",
    "Next step is to focus on the content itself ot the texts. First of all, cleaning all the \"strange\" characters (non-printeable) or excesive whitespaces. Also, clean all symbols that are not letters, numbers or common punctuation symbols."
   ]
  },
  {
   "cell_type": "code",
   "execution_count": 39,
   "id": "92cec595-10bc-4bb0-afe3-cc5879e2ce2b",
   "metadata": {
    "tags": []
   },
   "outputs": [
    {
     "name": "stderr",
     "output_type": "stream",
     "text": [
      "/tmp/ipykernel_415/290922494.py:19: SettingWithCopyWarning: \n",
      "A value is trying to be set on a copy of a slice from a DataFrame.\n",
      "Try using .loc[row_indexer,col_indexer] = value instead\n",
      "\n",
      "See the caveats in the documentation: https://pandas.pydata.org/pandas-docs/stable/user_guide/indexing.html#returning-a-view-versus-a-copy\n",
      "  filtered_df[\"body\"] = filtered_df[\"body\"].apply(clean_text)\n",
      "/tmp/ipykernel_415/290922494.py:21: SettingWithCopyWarning: \n",
      "A value is trying to be set on a copy of a slice from a DataFrame.\n",
      "Try using .loc[row_indexer,col_indexer] = value instead\n",
      "\n",
      "See the caveats in the documentation: https://pandas.pydata.org/pandas-docs/stable/user_guide/indexing.html#returning-a-view-versus-a-copy\n",
      "  filtered_df[\"body_len\"] = filtered_df[\"body\"].apply(len)\n"
     ]
    },
    {
     "data": {
      "text/html": [
       "<div>\n",
       "<style scoped>\n",
       "    .dataframe tbody tr th:only-of-type {\n",
       "        vertical-align: middle;\n",
       "    }\n",
       "\n",
       "    .dataframe tbody tr th {\n",
       "        vertical-align: top;\n",
       "    }\n",
       "\n",
       "    .dataframe thead th {\n",
       "        text-align: right;\n",
       "    }\n",
       "</style>\n",
       "<table border=\"1\" class=\"dataframe\">\n",
       "  <thead>\n",
       "    <tr style=\"text-align: right;\">\n",
       "      <th></th>\n",
       "      <th>url</th>\n",
       "      <th>title</th>\n",
       "      <th>body</th>\n",
       "      <th>body_len</th>\n",
       "    </tr>\n",
       "  </thead>\n",
       "  <tbody>\n",
       "    <tr>\n",
       "      <th>1</th>\n",
       "      <td>https://www.rte.ie/news/ukraine/2024/0101/1424...</td>\n",
       "      <td>Russia suffering major losses in Ukraine - Zel...</td>\n",
       "      <td>Ukrainian President Volodymyr Zelensky has sai...</td>\n",
       "      <td>4352</td>\n",
       "    </tr>\n",
       "    <tr>\n",
       "      <th>2</th>\n",
       "      <td>https://www.lbc.co.uk/news/small-boat-crossing...</td>\n",
       "      <td>Small boat crossings fall by a third as govern...</td>\n",
       "      <td>LBC. Ali Miraj12pm  3pm. News. Ali Miraj is Le...</td>\n",
       "      <td>3345</td>\n",
       "    </tr>\n",
       "    <tr>\n",
       "      <th>3</th>\n",
       "      <td>https://www.themalaysianinsight.com/s/478666</td>\n",
       "      <td>Israel army warns Gaza war will continue throu...</td>\n",
       "      <td>Updated 6 months ago Published on 2 Jan 2024 7...</td>\n",
       "      <td>6175</td>\n",
       "    </tr>\n",
       "    <tr>\n",
       "      <th>4</th>\n",
       "      <td>https://www.nydailynews.com/2024/01/01/n-y-law...</td>\n",
       "      <td>N.Y. lawmakers headed back to Albany for start...</td>\n",
       "      <td>Daily News eEdition. Evening eEdition. Sign up...</td>\n",
       "      <td>2003</td>\n",
       "    </tr>\n",
       "    <tr>\n",
       "      <th>5</th>\n",
       "      <td>https://www.bangkokpost.com/thailand/general/2...</td>\n",
       "      <td>Bangkok Post - Leaders offer New Year wishes,...</td>\n",
       "      <td>PUBLISHED : 2 Jan 2024 at 06:19. NEWSPAPER SEC...</td>\n",
       "      <td>2574</td>\n",
       "    </tr>\n",
       "    <tr>\n",
       "      <th>6</th>\n",
       "      <td>https://www.bostonherald.com/2024/01/01/migran...</td>\n",
       "      <td>Migrant buses bypass NYC for New Jersey</td>\n",
       "      <td>EEdition. Sign up for email newsletters. . Sig...</td>\n",
       "      <td>3942</td>\n",
       "    </tr>\n",
       "    <tr>\n",
       "      <th>7</th>\n",
       "      <td>https://nypost.com/2024/01/01/opinion/why-eric...</td>\n",
       "      <td>Why Eric Adams' 'tough' moves on migrants keep...</td>\n",
       "      <td>Thanks for contacting us. We've received your ...</td>\n",
       "      <td>1983</td>\n",
       "    </tr>\n",
       "    <tr>\n",
       "      <th>8</th>\n",
       "      <td>https://news.yahoo.com/virginia-man-hit-killed...</td>\n",
       "      <td>Virginia man hit, killed by car on I-270 in Mo...</td>\n",
       "      <td>MONTGOMERY COUNTY, Md. DC News Now Maryland St...</td>\n",
       "      <td>2973</td>\n",
       "    </tr>\n",
       "  </tbody>\n",
       "</table>\n",
       "</div>"
      ],
      "text/plain": [
       "                                                 url  \\\n",
       "1  https://www.rte.ie/news/ukraine/2024/0101/1424...   \n",
       "2  https://www.lbc.co.uk/news/small-boat-crossing...   \n",
       "3       https://www.themalaysianinsight.com/s/478666   \n",
       "4  https://www.nydailynews.com/2024/01/01/n-y-law...   \n",
       "5  https://www.bangkokpost.com/thailand/general/2...   \n",
       "6  https://www.bostonherald.com/2024/01/01/migran...   \n",
       "7  https://nypost.com/2024/01/01/opinion/why-eric...   \n",
       "8  https://news.yahoo.com/virginia-man-hit-killed...   \n",
       "\n",
       "                                               title  \\\n",
       "1  Russia suffering major losses in Ukraine - Zel...   \n",
       "2  Small boat crossings fall by a third as govern...   \n",
       "3  Israel army warns Gaza war will continue throu...   \n",
       "4  N.Y. lawmakers headed back to Albany for start...   \n",
       "5   Bangkok Post - Leaders offer New Year wishes,...   \n",
       "6            Migrant buses bypass NYC for New Jersey   \n",
       "7  Why Eric Adams' 'tough' moves on migrants keep...   \n",
       "8  Virginia man hit, killed by car on I-270 in Mo...   \n",
       "\n",
       "                                                body  body_len  \n",
       "1  Ukrainian President Volodymyr Zelensky has sai...      4352  \n",
       "2  LBC. Ali Miraj12pm  3pm. News. Ali Miraj is Le...      3345  \n",
       "3  Updated 6 months ago Published on 2 Jan 2024 7...      6175  \n",
       "4  Daily News eEdition. Evening eEdition. Sign up...      2003  \n",
       "5  PUBLISHED : 2 Jan 2024 at 06:19. NEWSPAPER SEC...      2574  \n",
       "6  EEdition. Sign up for email newsletters. . Sig...      3942  \n",
       "7  Thanks for contacting us. We've received your ...      1983  \n",
       "8  MONTGOMERY COUNTY, Md. DC News Now Maryland St...      2973  "
      ]
     },
     "execution_count": 39,
     "metadata": {},
     "output_type": "execute_result"
    }
   ],
   "source": [
    "import re\n",
    "\n",
    "def clean_text(text):\n",
    "    #Remove non-printable characters\n",
    "    text = re.sub(r'[^\\x00-\\x7F]+', ' ', text)\n",
    "    \n",
    "    #Remove excessive whitespace\n",
    "    text = re.sub(r'\\s+', ' ', text).strip()\n",
    "    \n",
    "    #Remove special symbols (keeping regular punctuation)\n",
    "    text = re.sub(r'[^a-zA-Z0-9\\s\\.\\,\\!\\?\\;\\:\\'\\\"]+', '', text)\n",
    "    \n",
    "    #Remove double .. that may have been generated because of the way the lambda function is defined\n",
    "    text = text.replace(\"..\", \".\")\n",
    "    \n",
    "    return text\n",
    "\n",
    "#Apply to the body of the DF\n",
    "filtered_df[\"body\"] = filtered_df[\"body\"].apply(clean_text)\n",
    "#Update the length column\n",
    "filtered_df[\"body_len\"] = filtered_df[\"body\"].apply(len)\n",
    "filtered_df.head(8)"
   ]
  },
  {
   "cell_type": "markdown",
   "id": "e160d1c2-5cea-4303-93ad-464834a54098",
   "metadata": {},
   "source": [
    "The final step would be to eliminate all the sentences which are advertise or promotional content. This can be done using the nltk library, splitting the bodies into sentences and keeping only the onews that do not include promotional content."
   ]
  },
  {
   "cell_type": "code",
   "execution_count": 40,
   "id": "d21fa621-7619-454d-b41c-6653ec324ff4",
   "metadata": {
    "tags": []
   },
   "outputs": [
    {
     "name": "stderr",
     "output_type": "stream",
     "text": [
      "[nltk_data] Downloading package punkt to /home/ec2-user/nltk_data...\n",
      "[nltk_data]   Package punkt is already up-to-date!\n",
      "/tmp/ipykernel_415/1631781671.py:38: SettingWithCopyWarning: \n",
      "A value is trying to be set on a copy of a slice from a DataFrame.\n",
      "Try using .loc[row_indexer,col_indexer] = value instead\n",
      "\n",
      "See the caveats in the documentation: https://pandas.pydata.org/pandas-docs/stable/user_guide/indexing.html#returning-a-view-versus-a-copy\n",
      "  filtered_df[\"body\"] = filtered_df[\"body\"].apply(remove_promotional_content)\n",
      "/tmp/ipykernel_415/1631781671.py:40: SettingWithCopyWarning: \n",
      "A value is trying to be set on a copy of a slice from a DataFrame.\n",
      "Try using .loc[row_indexer,col_indexer] = value instead\n",
      "\n",
      "See the caveats in the documentation: https://pandas.pydata.org/pandas-docs/stable/user_guide/indexing.html#returning-a-view-versus-a-copy\n",
      "  filtered_df[\"body_len\"] = filtered_df[\"body\"].apply(len)\n"
     ]
    }
   ],
   "source": [
    "import nltk\n",
    "\n",
    "nltk.download('punkt')\n",
    "\n",
    "def remove_promotional_content(text):\n",
    "    \n",
    "    #Define common promotional phrases\n",
    "    promo_phrases = [\n",
    "        \"GO AD FREE\", \"Get your Digital Subscription\", \"Use code\", \"More on\", \"News you can trust\",\n",
    "        \"day forecast\", \"Home\", \"Article\", \"click here\", \"buy now\", \"limited time offer\", \"subscribe now\",\n",
    "        \"unlock the no-ads mode\", \"go premium\", \"ad-free\", \"Free trial\", \"Sign up now\", \"Limited time offer\",\n",
    "        \"Act now\", \"Don't miss out\", \"Buy one get one free\", \"Special discount\", \"Hurry up\", \"Order now\",\n",
    "        \"Money back guarantee\", \"Exclusive offer\", \"Best deal\", \"Save now\", \"Get started\", \"Shop now\",\n",
    "        \"Learn more\", \"Subscribe today\", \"Best price\", \"Offer ends soon\", \"Download now\", \"Call now\",\n",
    "        \"Visit our website\", \"Premium access\", \"Instant access\", \"Join now\", \"Unlock access\", \"VIP access\",\n",
    "        \"Discount code\", \"Promo code\", \"Register now\", \"Claim your free gift\", \"Satisfaction guaranteed\",\n",
    "        \"Follow us\", \"Connect with us\", \"Like and share\", \"Follow for updates\", \"Upgrade now\", \"Become a member\",\n",
    "        \"Sign in to access\", \"For more information\", \"Read more\", \"Click to continue\", \"Watch now\", \"Find out more\",\n",
    "        \"Discover more\", \"Start your journey\", \"Enhance your experience\", \"Get the best\", \"Reserve your spot\",\n",
    "        \"Act fast\", \"Check this out\", \"Try it free\", \"Explore now\", \"Book your place\", \"Request a quote\",\n",
    "        \"Limited stock\", \"On sale now\", \"Contact us today\", \"Free shipping\", \"Subscribe for updates\",\n",
    "        \"Click to learn more\", \"Experience the best\", \"Shop the collection\", \"Buy now pay later\", \"Email newsletter\"\n",
    "        \"Limited time only\", \"Get yours today\"\n",
    "    ]\n",
    "    \n",
    "    #Split the text into sentences (punctuation is preserved)\n",
    "    sentences = nltk.sent_tokenize(text)\n",
    "\n",
    "    #Remove sentences containing promotional phrases\n",
    "    cleaned_sentences = [sentence for sentence in sentences if not any(promo.lower() in sentence.lower() for promo in promo_phrases)]\n",
    "\n",
    "    #Join the cleaned sentences back into a single text\n",
    "    cleaned_text = ' '.join(cleaned_sentences)\n",
    "    \n",
    "    return cleaned_text\n",
    "\n",
    "#Apply the function to the body of the DF\n",
    "filtered_df[\"body\"] = filtered_df[\"body\"].apply(remove_promotional_content)\n",
    "#Update the length column\n",
    "filtered_df[\"body_len\"] = filtered_df[\"body\"].apply(len)"
   ]
  },
  {
   "cell_type": "markdown",
   "id": "dc4828b4-daa4-4d59-b007-d8a55b6b469b",
   "metadata": {},
   "source": [
    "Now visualize the length distribution again to see how it is now after all the changes applied."
   ]
  },
  {
   "cell_type": "code",
   "execution_count": 41,
   "id": "7edeeded-29db-4ca3-b8a8-56a67859d938",
   "metadata": {
    "tags": []
   },
   "outputs": [
    {
     "data": {
      "image/png": "[encoded data removed]",
      "text/plain": [
       "<Figure size 1000x600 with 1 Axes>"
      ]
     },
     "metadata": {},
     "output_type": "display_data"
    }
   ],
   "source": [
    "visualize_text_length_distribution(filtered_df, \"body_len\")"
   ]
  },
  {
   "cell_type": "markdown",
   "id": "376f7994-fb89-429c-86ca-87dc2baaf1a8",
   "metadata": {},
   "source": [
    "Some news may have become too short, or were purely promotional content from the start. So finally let's filter all bodies that have been left with a body shorter that 450 characters."
   ]
  },
  {
   "cell_type": "code",
   "execution_count": 44,
   "id": "5ff40d4f-2bca-4537-a7b0-033d4dd4eded",
   "metadata": {
    "tags": []
   },
   "outputs": [
    {
     "data": {
      "text/html": [
       "<div>\n",
       "<style scoped>\n",
       "    .dataframe tbody tr th:only-of-type {\n",
       "        vertical-align: middle;\n",
       "    }\n",
       "\n",
       "    .dataframe tbody tr th {\n",
       "        vertical-align: top;\n",
       "    }\n",
       "\n",
       "    .dataframe thead th {\n",
       "        text-align: right;\n",
       "    }\n",
       "</style>\n",
       "<table border=\"1\" class=\"dataframe\">\n",
       "  <thead>\n",
       "    <tr style=\"text-align: right;\">\n",
       "      <th></th>\n",
       "      <th>url</th>\n",
       "      <th>title</th>\n",
       "      <th>body</th>\n",
       "      <th>body_len</th>\n",
       "    </tr>\n",
       "  </thead>\n",
       "  <tbody>\n",
       "    <tr>\n",
       "      <th>1</th>\n",
       "      <td>https://www.rte.ie/news/ukraine/2024/0101/1424...</td>\n",
       "      <td>Russia suffering major losses in Ukraine - Zel...</td>\n",
       "      <td>Ukrainian President Volodymyr Zelensky has sai...</td>\n",
       "      <td>4352</td>\n",
       "    </tr>\n",
       "    <tr>\n",
       "      <th>2</th>\n",
       "      <td>https://www.lbc.co.uk/news/small-boat-crossing...</td>\n",
       "      <td>Small boat crossings fall by a third as govern...</td>\n",
       "      <td>LBC. Ali Miraj12pm  3pm. News. Ali Miraj is Le...</td>\n",
       "      <td>2981</td>\n",
       "    </tr>\n",
       "    <tr>\n",
       "      <th>3</th>\n",
       "      <td>https://www.themalaysianinsight.com/s/478666</td>\n",
       "      <td>Israel army warns Gaza war will continue throu...</td>\n",
       "      <td>Updated 6 months ago Published on 2 Jan 2024 7...</td>\n",
       "      <td>5998</td>\n",
       "    </tr>\n",
       "    <tr>\n",
       "      <th>4</th>\n",
       "      <td>https://www.nydailynews.com/2024/01/01/n-y-law...</td>\n",
       "      <td>N.Y. lawmakers headed back to Albany for start...</td>\n",
       "      <td>Daily News eEdition. Evening eEdition. Sign up...</td>\n",
       "      <td>2003</td>\n",
       "    </tr>\n",
       "    <tr>\n",
       "      <th>5</th>\n",
       "      <td>https://www.bangkokpost.com/thailand/general/2...</td>\n",
       "      <td>Bangkok Post - Leaders offer New Year wishes,...</td>\n",
       "      <td>PUBLISHED : 2 Jan 2024 at 06:19. NEWSPAPER SEC...</td>\n",
       "      <td>2574</td>\n",
       "    </tr>\n",
       "  </tbody>\n",
       "</table>\n",
       "</div>"
      ],
      "text/plain": [
       "                                                 url  \\\n",
       "1  https://www.rte.ie/news/ukraine/2024/0101/1424...   \n",
       "2  https://www.lbc.co.uk/news/small-boat-crossing...   \n",
       "3       https://www.themalaysianinsight.com/s/478666   \n",
       "4  https://www.nydailynews.com/2024/01/01/n-y-law...   \n",
       "5  https://www.bangkokpost.com/thailand/general/2...   \n",
       "\n",
       "                                               title  \\\n",
       "1  Russia suffering major losses in Ukraine - Zel...   \n",
       "2  Small boat crossings fall by a third as govern...   \n",
       "3  Israel army warns Gaza war will continue throu...   \n",
       "4  N.Y. lawmakers headed back to Albany for start...   \n",
       "5   Bangkok Post - Leaders offer New Year wishes,...   \n",
       "\n",
       "                                                body  body_len  \n",
       "1  Ukrainian President Volodymyr Zelensky has sai...      4352  \n",
       "2  LBC. Ali Miraj12pm  3pm. News. Ali Miraj is Le...      2981  \n",
       "3  Updated 6 months ago Published on 2 Jan 2024 7...      5998  \n",
       "4  Daily News eEdition. Evening eEdition. Sign up...      2003  \n",
       "5  PUBLISHED : 2 Jan 2024 at 06:19. NEWSPAPER SEC...      2574  "
      ]
     },
     "execution_count": 44,
     "metadata": {},
     "output_type": "execute_result"
    }
   ],
   "source": [
    "filtered_df = filtered_df[filtered_df[\"body_len\"] > 450]\n",
    "filtered_df.head()"
   ]
  },
  {
   "cell_type": "markdown",
   "id": "64a3a942-48e1-49d2-bc5a-39fd261a68ed",
   "metadata": {},
   "source": [
    "This notebook has set all necessary steps to create the cleaning script that later will be developed."
   ]
  },
  {
   "cell_type": "code",
   "execution_count": null,
   "id": "3e1934da-06b7-4a92-a740-3484c24eeb7c",
   "metadata": {},
   "outputs": [],
   "source": []
  }
 ],
 "metadata": {
  "kernelspec": {
   "display_name": "conda_python3",
   "language": "python",
   "name": "conda_python3"
  },
  "language_info": {
   "codemirror_mode": {
    "name": "ipython",
    "version": 3
   },
   "file_extension": ".py",
   "mimetype": "text/x-python",
   "name": "python",
   "nbconvert_exporter": "python",
   "pygments_lexer": "ipython3",
   "version": "3.10.14"
  }
 },
 "nbformat": 4,
 "nbformat_minor": 5
}
